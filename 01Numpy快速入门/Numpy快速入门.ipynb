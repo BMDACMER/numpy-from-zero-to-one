{
 "cells": [
  {
   "cell_type": "markdown",
   "metadata": {},
   "source": [
    "### 安装\n",
    "\n",
    "\n",
    "省略。。。"
   ]
  },
  {
   "cell_type": "markdown",
   "metadata": {},
   "source": [
    "### 动手实践：向量加法"
   ]
  },
  {
   "cell_type": "markdown",
   "metadata": {},
   "source": [
    "向量a的取值为0~n的整数的平方，例如n取3时，向量a为0、1或4.向量b的取值为0~n的整数的立方，例如n取3时，向量b为0，1，8.\n",
    "<br>\n",
    "请用纯python和Numpy代码写出，并比较两者之间运行效率。"
   ]
  },
  {
   "cell_type": "code",
   "execution_count": 19,
   "metadata": {},
   "outputs": [],
   "source": [
    "import numpy as np\n",
    "from datetime import datetime"
   ]
  },
  {
   "cell_type": "code",
   "execution_count": 42,
   "metadata": {},
   "outputs": [],
   "source": [
    "# 以下用纯python写的\n",
    "def pythonsum(n):\n",
    "    a = list(range(n))  # [0,n)之间的整数\n",
    "    b = list(range(n))\n",
    "    c = []\n",
    "    for i in list(range(0,len(a))):\n",
    "        a[i] = i ** 2\n",
    "        b[i] = i ** 3\n",
    "        c.append(a[i] + b[i])\n",
    "    return c\n",
    "\n",
    "\n",
    "# 以下用Numpy写的\n",
    "def numpysum(n):\n",
    "    \n",
    "    a = np.arange(n) ** 2\n",
    "    b = np.arange(n) ** 3\n",
    "    c = a + b\n",
    "    return c"
   ]
  },
  {
   "cell_type": "code",
   "execution_count": 73,
   "metadata": {},
   "outputs": [
    {
     "name": "stdout",
     "output_type": "stream",
     "text": [
      "The last 2 elements of the sum [1324958796, 1328581100]\n",
      "Pythonsum elapsed time in microseconds 998\n",
      "The last 2 elements of the sum [1324958796 1328581100]\n",
      "Numpysum elapsed time in microseconds 0\n"
     ]
    }
   ],
   "source": [
    "start = datetime.now()\n",
    "c = pythonsum(1100)\n",
    "end = datetime.now() - start\n",
    "print(\"The last 2 elements of the sum\", c[-2:])\n",
    "print(\"Pythonsum elapsed time in microseconds\", end.microseconds)\n",
    "start = datetime.now()\n",
    "c = numpysum(1100)\n",
    "# c = c.astype('int64')\n",
    "end = datetime.now() - start\n",
    "print(\"The last 2 elements of the sum\", c[-2:])\n",
    "print(\"Numpysum elapsed time in microseconds\", end.microseconds)"
   ]
  },
  {
   "cell_type": "markdown",
   "metadata": {},
   "source": [
    "**注意**： 原文中输入大于2000时会超出numpy的输出限制，因为numpy输出的数据类型默认为int32    \n",
    "\n",
    "numpysum()函数的输出不包括逗号，因为我们使用的时numpy数组，而非python自带的list容器，numpy数组对象以专用数据结构来存储数值。"
   ]
  },
  {
   "cell_type": "markdown",
   "metadata": {},
   "source": [
    "<center>突击测验：arange函数的功能</center>\n",
    "\n",
    "问题1  arange(5)的作用是什么？\n",
    "（1）创建一个包含5个元素的python列表（list），取值分别为1~5的整数\n",
    "（2）创建一个包含5个元素的python列表（list），取值分别为0~4的整数\n",
    "（3）创建一个包含5个元素的Numpy数组，取值分别为1~5的整数\n",
    "（4）创建一个包含5个元素的numpy数组，取值分别为0~4的整数\n",
    "（5）以上都不对\n",
    "\n",
    "\n",
    "<br><br><br>\n",
    "答案为：（4）"
   ]
  },
  {
   "cell_type": "code",
   "execution_count": null,
   "metadata": {},
   "outputs": [],
   "source": []
  }
 ],
 "metadata": {
  "kernelspec": {
   "display_name": "Python 3",
   "language": "python",
   "name": "python3"
  },
  "language_info": {
   "codemirror_mode": {
    "name": "ipython",
    "version": 3
   },
   "file_extension": ".py",
   "mimetype": "text/x-python",
   "name": "python",
   "nbconvert_exporter": "python",
   "pygments_lexer": "ipython3",
   "version": "3.6.5"
  }
 },
 "nbformat": 4,
 "nbformat_minor": 2
}
