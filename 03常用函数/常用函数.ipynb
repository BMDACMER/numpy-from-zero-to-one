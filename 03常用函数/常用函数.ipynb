{
 "cells": [
  {
   "cell_type": "markdown",
   "metadata": {},
   "source": [
    "本章将介绍numpy中的常用函数，主要涉及如下内容：\n",
    "- 数组相关的函数\n",
    "- 从文件中载入数据\n",
    "- 将数组写入文件\n",
    "- 简单的数学和统计分析函数"
   ]
  },
  {
   "cell_type": "code",
   "execution_count": 1,
   "metadata": {},
   "outputs": [],
   "source": [
    "import numpy as np"
   ]
  },
  {
   "cell_type": "markdown",
   "metadata": {},
   "source": [
    "## 1 读写文件"
   ]
  },
  {
   "cell_type": "code",
   "execution_count": 3,
   "metadata": {},
   "outputs": [
    {
     "data": {
      "text/plain": [
       "array([[1., 0.],\n",
       "       [0., 1.]])"
      ]
     },
     "execution_count": 3,
     "metadata": {},
     "output_type": "execute_result"
    }
   ],
   "source": [
    "# 使用eye函数创建单位矩阵\n",
    "i2 = np.eye(2)\n",
    "i2"
   ]
  },
  {
   "cell_type": "code",
   "execution_count": 4,
   "metadata": {},
   "outputs": [],
   "source": [
    "# 使用savetxt函数将数据存储到文件中，当然我们需要指定文件名以及要保存的数组\n",
    "np.savetxt('eye.txt', i2)  # 会在当前文件夹下创建eye.txt文件  里面的内容为i2"
   ]
  },
  {
   "cell_type": "markdown",
   "metadata": {},
   "source": [
    "## 2 CSV文件"
   ]
  },
  {
   "cell_type": "markdown",
   "metadata": {},
   "source": [
    "Numpy中的loadtxt函数可以方便地读取csv文件，自动切分字段，并将数据宅如numpy数组。"
   ]
  },
  {
   "cell_type": "code",
   "execution_count": 5,
   "metadata": {},
   "outputs": [],
   "source": [
    "# (6,7)表示data.csv文件最后两行。usecols的参数为一个元组，\n",
    "# unpack参数设置为True，意思是分拆存储不同列的数据，即分别将收盘价和成交量的数组赋值给变量c和v                                                      \n",
    "c, v = np.loadtxt('data.csv', delimiter=',', usecols=(6, 7), unpack=True)  "
   ]
  },
  {
   "cell_type": "code",
   "execution_count": 6,
   "metadata": {},
   "outputs": [
    {
     "name": "stdout",
     "output_type": "stream",
     "text": [
      "vwap =  350.5895493532009\n"
     ]
    }
   ],
   "source": [
    "# 计算成交量加权平均价格（VWAP）\n",
    "vwap = np.average(c, weights=v)   # v作为权重参数使用，完成了vwap的计算  关于加权均值的计算详见：https://blog.csdn.net/sunys312/article/details/79526000\n",
    "print(\"vwap = \", vwap)  "
   ]
  },
  {
   "cell_type": "code",
   "execution_count": 7,
   "metadata": {},
   "outputs": [
    {
     "name": "stdout",
     "output_type": "stream",
     "text": [
      "mean =  351.0376666666667\n"
     ]
    }
   ],
   "source": [
    "# 算数平均数\n",
    "print('mean = ', np.mean(c))"
   ]
  },
  {
   "cell_type": "code",
   "execution_count": 8,
   "metadata": {},
   "outputs": [
    {
     "name": "stdout",
     "output_type": "stream",
     "text": [
      "twap =  352.4283218390804\n"
     ]
    }
   ],
   "source": [
    "# 时间加权平均价格\n",
    "t = np.arange(len(c))\n",
    "print('twap = ', np.average(c, weights=t))"
   ]
  },
  {
   "cell_type": "markdown",
   "metadata": {},
   "source": [
    "<center>突击测验：计算加权平均值</center>\n",
    "\n",
    "问题1： 以下哪个函数可以返回数组元素的加权平均值？\n",
    "<br>(1) weighted average\n",
    "<br>(2) waverage\n",
    "<br>(3) average\n",
    "<br>(4)avg\n",
    "\n",
    "<br>----------------------------------<br>\n",
    "**答案**：（3）"
   ]
  },
  {
   "cell_type": "code",
   "execution_count": 9,
   "metadata": {},
   "outputs": [
    {
     "name": "stdout",
     "output_type": "stream",
     "text": [
      "highest =  364.9\n",
      "lowest =  333.53\n"
     ]
    }
   ],
   "source": [
    "# 找出最大值和最小值\n",
    "# min和max函数能够满足需求。可以按照下面步骤来找最大值和最小值\n",
    "h,l = np.loadtxt('data.csv', delimiter=',', usecols=(4,5), unpack=True)  \n",
    "print('highest = ', np.max(h))\n",
    "print('lowest = ', np.min(l))"
   ]
  },
  {
   "cell_type": "code",
   "execution_count": 10,
   "metadata": {},
   "outputs": [
    {
     "name": "stdout",
     "output_type": "stream",
     "text": [
      "Spread high price 24.859999999999957\n",
      "Spread low price 26.970000000000027\n"
     ]
    }
   ],
   "source": [
    "# numpy中还有ptp函数可以计算数组的取值范围。该函数返回的是数组元素的最大值和最小值之间的差值.相当于max() - min()\n",
    "print(\"Spread high price\", np.ptp(h))\n",
    "print(\"Spread low price\", np.ptp(l))"
   ]
  },
  {
   "cell_type": "markdown",
   "metadata": {},
   "source": [
    "## 3 动手实践：简单统计分析"
   ]
  },
  {
   "cell_type": "markdown",
   "metadata": {},
   "source": [
    "（1）计算收盘价的中位数。"
   ]
  },
  {
   "cell_type": "code",
   "execution_count": 11,
   "metadata": {},
   "outputs": [
    {
     "name": "stdout",
     "output_type": "stream",
     "text": [
      "中位数为： 352.055\n"
     ]
    }
   ],
   "source": [
    "c = np.loadtxt('data.csv', delimiter=',', usecols=(6,), unpack=True)\n",
    "print(\"中位数为：\",np.median(c))   # 使用median函数找到中位数"
   ]
  },
  {
   "cell_type": "code",
   "execution_count": 12,
   "metadata": {},
   "outputs": [
    {
     "data": {
      "text/plain": [
       "array([336.1 , 338.61, 339.32, 342.62, 342.88, 343.44, 344.32, 345.03,\n",
       "       346.5 , 346.67, 348.16, 349.31, 350.56, 351.88, 351.99, 352.12,\n",
       "       352.47, 353.21, 354.54, 355.2 , 355.36, 355.76, 356.85, 358.16,\n",
       "       358.3 , 359.18, 359.56, 359.9 , 360.  , 363.13])"
      ]
     },
     "execution_count": 12,
     "metadata": {},
     "output_type": "execute_result"
    }
   ],
   "source": [
    "# 验证上面是否正确\n",
    "sorted_close = np.msort(c)   # 调用msort()函数对c进行排序(默认升序)\n",
    "sorted_close"
   ]
  },
  {
   "cell_type": "code",
   "execution_count": 16,
   "metadata": {},
   "outputs": [
    {
     "name": "stdout",
     "output_type": "stream",
     "text": [
      "中位数middle =  352.055\n"
     ]
    }
   ],
   "source": [
    "N = len(c)\n",
    "print(\"中位数middle = \", (sorted_close[int(N/2)] + sorted_close[int((N-1)/2)])/2)"
   ]
  },
  {
   "cell_type": "code",
   "execution_count": 17,
   "metadata": {},
   "outputs": [
    {
     "name": "stdout",
     "output_type": "stream",
     "text": [
      "variance =  50.126517888888884\n"
     ]
    }
   ],
   "source": [
    "# 方差可以体现透支风险的大小\n",
    "print('variance = ', np.var(c))   # 调用var函数计算方差"
   ]
  },
  {
   "cell_type": "code",
   "execution_count": 20,
   "metadata": {},
   "outputs": [
    {
     "name": "stdout",
     "output_type": "stream",
     "text": [
      "validate the variance =  50.126517888888884\n"
     ]
    }
   ],
   "source": [
    "# 验证var函数额有效性\n",
    "print('validate the variance = ', np.mean((c - np.mean(c)) ** 2))"
   ]
  },
  {
   "cell_type": "markdown",
   "metadata": {},
   "source": [
    "## 4 股票收益率"
   ]
  },
  {
   "cell_type": "markdown",
   "metadata": {},
   "source": [
    "（1）numpy中的diff函数可以返回一个由相邻数组元素的插值构成的数组。这有点类似于微积分中的微分。为了计算收益率，我们还需要用插值初一前一天的价格。不过需要注意，diff返回的数组比收盘价数组少一个元素"
   ]
  },
  {
   "cell_type": "code",
   "execution_count": 21,
   "metadata": {},
   "outputs": [
    {
     "name": "stdout",
     "output_type": "stream",
     "text": [
      "standard deviation =  0.012922134436826306\n"
     ]
    }
   ],
   "source": [
    "returns = np.diff(c) / c[:-1]  # 没有用收盘价数组中的最后一个值做除数，接下来，用std函数计算标准差\n",
    "print(\"standard deviation = \", np.std(returns))"
   ]
  },
  {
   "cell_type": "code",
   "execution_count": 22,
   "metadata": {},
   "outputs": [],
   "source": [
    "# 对数收益计算起来甚至更简单一些，先用log函数得到每一个收盘价的对数在对结果使用diff函数即可\n",
    "logreturns = np.diff(np.log(c))"
   ]
  },
  {
   "cell_type": "code",
   "execution_count": 23,
   "metadata": {},
   "outputs": [
    {
     "name": "stdout",
     "output_type": "stream",
     "text": [
      "Indices with positive returns  (array([ 0,  1,  4,  5,  6,  7,  9, 10, 11, 12, 16, 17, 18, 19, 21, 22, 23,\n",
      "       25, 28], dtype=int64),)\n"
     ]
    }
   ],
   "source": [
    "# 对那些交易日的收益率为正值感兴趣，在完成了前面的步骤之后，我们只需要用where函数就可以做到这一点。where函数可以根据指定的条件返回\n",
    "#所有满足条件的数组元素的索引值\n",
    "print(\"Indices with positive returns \", np.where(returns > 0))"
   ]
  },
  {
   "cell_type": "code",
   "execution_count": 24,
   "metadata": {},
   "outputs": [
    {
     "name": "stdout",
     "output_type": "stream",
     "text": [
      "Indices with negative returns  (array([ 2,  3,  8, 13, 14, 15, 20, 24, 26, 27], dtype=int64),)\n"
     ]
    }
   ],
   "source": [
    "print(\"Indices with negative returns \", np.where(returns <= 0))"
   ]
  },
  {
   "cell_type": "code",
   "execution_count": 26,
   "metadata": {},
   "outputs": [
    {
     "name": "stdout",
     "output_type": "stream",
     "text": [
      "annual_volatility =  2052.1736693701687\n",
      "Monthly volatility 37.318417377317765\n"
     ]
    }
   ],
   "source": [
    "# 在投资学中，波动率(volatility)是对价格变动的一种度量。历史波动率可以根据历史价格数据计算得到\n",
    "annual_volatility = np.std(logreturns)/np.mean(logreturns)\n",
    "annual_volatility = annual_volatility / np.sqrt(1./252.)\n",
    "print(\"annual_volatility = \", annual_volatility / np.sqrt(1./252.))\n",
    "print(\"Monthly volatility\", annual_volatility * np.sqrt(1./12.))"
   ]
  },
  {
   "cell_type": "markdown",
   "metadata": {},
   "source": [
    "##  5 日期分析 "
   ]
  },
  {
   "cell_type": "code",
   "execution_count": 29,
   "metadata": {},
   "outputs": [],
   "source": [
    "import datetime"
   ]
  },
  {
   "cell_type": "code",
   "execution_count": 36,
   "metadata": {},
   "outputs": [],
   "source": [
    "# 写出转换函数\n",
    "def datestr2num(s):\n",
    "    return datetime.datetime.strptime(s.decode('ascii'), \"%d-%m-%Y\").date().weekday()  # 这里得加.decode('ascii') 不然会报错"
   ]
  },
  {
   "cell_type": "code",
   "execution_count": 37,
   "metadata": {},
   "outputs": [
    {
     "name": "stdout",
     "output_type": "stream",
     "text": [
      "Dates =  [4. 0. 1. 2. 3. 4. 0. 1. 2. 3. 4. 0. 1. 2. 3. 4. 1. 2. 3. 4. 0. 1. 2. 3.\n",
      " 4. 0. 1. 2. 3. 4.]\n"
     ]
    }
   ],
   "source": [
    "# datetime对象被转换为date对象，调用weekday方法返回一个数字，这个数字可以是0到6的整数，0代表星期一，6代表星期天\n",
    "dates, close = np.loadtxt('data.csv', delimiter=',', usecols=(1, 6), converters={1:datestr2num}, unpack=True)\n",
    "print('Dates = ', dates)"
   ]
  },
  {
   "cell_type": "code",
   "execution_count": 38,
   "metadata": {},
   "outputs": [
    {
     "name": "stdout",
     "output_type": "stream",
     "text": [
      "Day 0 price [[339.32 351.88 359.18 353.21 355.36]] Average 351.7900000000001\n",
      "Day 1 price [[345.03 355.2  359.9  338.61 349.31 355.76]] Average 350.63500000000005\n",
      "Day 2 price [[344.32 358.16 363.13 342.62 352.12 352.47]] Average 352.1366666666666\n",
      "Day 3 price [[343.44 354.54 358.3  342.88 359.56 346.67]] Average 350.8983333333333\n",
      "Day 4 price [[336.1  346.5  356.85 350.56 348.16 360.   351.99]] Average 350.0228571428571\n"
     ]
    }
   ],
   "source": [
    "# 创建一个包含5个元素的数组，分别代表一周的5个工作日。数组元素将初始化为0\n",
    "averages = np.zeros(5)\n",
    "\n",
    "# 我们对每个工作日计算处平均值存放在averages数组中\n",
    "for i in range(5):\n",
    "    indices = np.where(dates == i)\n",
    "    prices = np.take(close, indices)\n",
    "    avg = np.mean(prices)\n",
    "    print('Day', i, \"price\", prices, \"Average\", avg)\n",
    "    averages[i] = avg"
   ]
  },
  {
   "cell_type": "code",
   "execution_count": 40,
   "metadata": {},
   "outputs": [
    {
     "name": "stdout",
     "output_type": "stream",
     "text": [
      "Heighest aveage 352.1366666666666\n",
      "Top day of week 2\n",
      "Lowest averages 350.0228571428571\n",
      "Bottom day of the week 4\n"
     ]
    }
   ],
   "source": [
    "#用max和min函数找哪个工作日的平均收盘价是最高的，哪个是最低的\n",
    "top = np.max(averages)\n",
    "print('Heighest aveage', top)\n",
    "print(\"Top day of week\", np.argmax(averages))\n",
    "bottom = np.min(averages)\n",
    "print(\"Lowest averages\", bottom)\n",
    "print(\"Bottom day of the week\", np.argmin(averages))"
   ]
  },
  {
   "cell_type": "markdown",
   "metadata": {},
   "source": [
    "## 6 周汇总"
   ]
  },
  {
   "cell_type": "markdown",
   "metadata": {},
   "source": [
    "我们将要汇总整个交易周中从周一到周五的所有数据。数据覆盖的时间段内有一个节假日：2月21日是总统纪念日。这天是星期一，美国股市休市，因此在我们的示例数据中没有这一天的数据记录。数据中的第一天为星期五，处理起来不太方便。按照如下步骤来汇总数据"
   ]
  },
  {
   "cell_type": "code",
   "execution_count": 49,
   "metadata": {},
   "outputs": [
    {
     "name": "stdout",
     "output_type": "stream",
     "text": [
      "The first Monday index is 1\n",
      "The last Friday index is 15\n",
      "Weeks indices initial [ 1  2  3  4  5  6  7  8  9 10 11 12 13 14 15]\n",
      "Weeks indices after split [array([1, 2, 3, 4, 5], dtype=int64), array([ 6,  7,  8,  9, 10], dtype=int64), array([11, 12, 13, 14, 15], dtype=int64)]\n",
      "Week summary [['APPL' '335.8' '346.7' '334.3' '346.5']\n",
      " ['APPL' '347.8' '360.0' '347.6' '356.8']\n",
      " ['APPL' '356.7' '364.9' '349.5' '350.5']]\n"
     ]
    }
   ],
   "source": [
    "import numpy as np\n",
    "from datetime import datetime\n",
    "\n",
    "# 星期一 0\n",
    "# 星期二 1\n",
    "# 星期三 2\n",
    "# 星期四 3\n",
    "# 星期五 4\n",
    "# 星期六 5\n",
    "# 星期天 6\n",
    "def datestr2num(s):\n",
    "    return datetime.strptime(s.decode('ascii'), \"%d-%m-%Y\").date().weekday()\n",
    "\n",
    "dates, open, high, low, close=np.loadtxt('data.csv', delimiter=',', usecols=(1, 3, 4, 5, 6), converters={1: datestr2num}, unpack=True)\n",
    "close = close[:16]\n",
    "dates = dates[:16]\n",
    "\n",
    "# get first Monday\n",
    "first_monday = np.ravel(np.where(dates == 0))[0]\n",
    "print( \"The first Monday index is\", first_monday)\n",
    "\n",
    "# get last Friday\n",
    "last_friday = np.ravel(np.where(dates == 4))[-1]\n",
    "print (\"The last Friday index is\", last_friday)\n",
    "\n",
    "weeks_indices = np.arange(first_monday, last_friday + 1)\n",
    "print (\"Weeks indices initial\", weeks_indices)\n",
    "\n",
    "weeks_indices = np.split(weeks_indices, 3)\n",
    "print (\"Weeks indices after split\", weeks_indices)\n",
    "\n",
    "def summarize(a, o, h, l, c):\n",
    "    monday_open = o[a[0]]\n",
    "    week_high = np.max( np.take(h, a) )  # take函数来根据索引值获取数组元素的值\n",
    "    week_low = np.min( np.take(l, a) )\n",
    "    friday_close = c[a[-1]]\n",
    "\n",
    "    return(\"APPL\", monday_open, week_high, week_low, friday_close)\n",
    "\n",
    "# apply_along_axis函数的介绍可参考：https://www.cnblogs.com/zz22--/p/7498868.html\n",
    "weeksummary = np.apply_along_axis(summarize, 1, weeks_indices, open, high, low, close)\n",
    "print (\"Week summary\", weeksummary)\n",
    "\n",
    "np.savetxt(\"weeksummary.csv\", weeksummary, delimiter=\",\", fmt=\"%s\")"
   ]
  },
  {
   "cell_type": "code",
   "execution_count": null,
   "metadata": {},
   "outputs": [],
   "source": []
  }
 ],
 "metadata": {
  "kernelspec": {
   "display_name": "Python 3",
   "language": "python",
   "name": "python3"
  },
  "language_info": {
   "codemirror_mode": {
    "name": "ipython",
    "version": 3
   },
   "file_extension": ".py",
   "mimetype": "text/x-python",
   "name": "python",
   "nbconvert_exporter": "python",
   "pygments_lexer": "ipython3",
   "version": "3.6.5"
  }
 },
 "nbformat": 4,
 "nbformat_minor": 2
}
